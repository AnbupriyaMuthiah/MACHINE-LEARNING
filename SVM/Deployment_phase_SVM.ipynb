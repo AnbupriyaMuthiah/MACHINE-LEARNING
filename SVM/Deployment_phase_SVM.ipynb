{
 "cells": [
  {
   "cell_type": "code",
   "execution_count": 1,
   "id": "601c1994-682b-4915-978e-f0c02e3c2cec",
   "metadata": {},
   "outputs": [],
   "source": [
    "import pickle"
   ]
  },
  {
   "cell_type": "code",
   "execution_count": 2,
   "id": "109d871f-d1e4-4a60-b1ac-b660f78d5c41",
   "metadata": {},
   "outputs": [
    {
     "name": "stdin",
     "output_type": "stream",
     "text": [
      "R&D: 214578\n",
      "Administration: 236987\n",
      "Marketing Spend: 56987\n",
      "State of Forida 0 or 1 0\n",
      "State of Newyork 0 or 1 1\n"
     ]
    },
    {
     "data": {
      "text/plain": [
       "array([10849274.74280392])"
      ]
     },
     "execution_count": 2,
     "metadata": {},
     "output_type": "execute_result"
    }
   ],
   "source": [
    "loaded_model= pickle.load(open(\"Finalized_model_SVM.sav\",'rb'))\n",
    "RD=float(input(\"R&D:\"))\n",
    "Admin=float(input(\"Administration:\"))\n",
    "Marketing=float(input(\"Marketing Spend:\"))\n",
    "Florida=int(input(\"State of Forida 0 or 1\"))\n",
    "Newyork=int(input(\"State of Newyork 0 or 1\"))\n",
    "result=loaded_model.predict([[RD,Admin,Marketing,Florida,Newyork]])\n",
    "result                "
   ]
  },
  {
   "cell_type": "code",
   "execution_count": null,
   "id": "2937b27c-f77c-418d-a9b5-8f5701c6c29e",
   "metadata": {},
   "outputs": [],
   "source": []
  }
 ],
 "metadata": {
  "kernelspec": {
   "display_name": "Python 3 (ipykernel)",
   "language": "python",
   "name": "python3"
  },
  "language_info": {
   "codemirror_mode": {
    "name": "ipython",
    "version": 3
   },
   "file_extension": ".py",
   "mimetype": "text/x-python",
   "name": "python",
   "nbconvert_exporter": "python",
   "pygments_lexer": "ipython3",
   "version": "3.11.7"
  }
 },
 "nbformat": 4,
 "nbformat_minor": 5
}
