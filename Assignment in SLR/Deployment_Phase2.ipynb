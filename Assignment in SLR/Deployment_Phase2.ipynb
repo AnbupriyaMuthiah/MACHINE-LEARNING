{
 "cells": [
  {
   "cell_type": "code",
   "execution_count": 1,
   "id": "302bb963-8c42-4355-a8a9-aa09ffc84582",
   "metadata": {},
   "outputs": [],
   "source": [
    "# Deployment Phase \n",
    "import pickle"
   ]
  },
  {
   "cell_type": "code",
   "execution_count": 2,
   "id": "43d67143-b362-462b-bb80-6d3c525fd12e",
   "metadata": {},
   "outputs": [
    {
     "name": "stdin",
     "output_type": "stream",
     "text": [
      "Enter the Years of Experience: 12\n"
     ]
    },
    {
     "name": "stdout",
     "output_type": "stream",
     "text": [
      "The salary of  12 years experience is [[139100.52677552]]\n"
     ]
    },
    {
     "name": "stderr",
     "output_type": "stream",
     "text": [
      "C:\\ProgramData\\anaconda3\\Lib\\site-packages\\sklearn\\base.py:439: UserWarning: X does not have valid feature names, but LinearRegression was fitted with feature names\n",
      "  warnings.warn(\n"
     ]
    }
   ],
   "source": [
    "loaded_model= pickle.load (open(\"Finalized_model_Linear.sav\",'rb'))\n",
    "experience=int(input(\"Enter the Years of Experience:\"))\n",
    "result=loaded_model.predict([[experience]])\n",
    "print (\"The salary of \",experience,\"years experience is\",result)"
   ]
  },
  {
   "cell_type": "code",
   "execution_count": null,
   "id": "9a6a0f62-d49e-4aaa-a155-03f5c9840091",
   "metadata": {},
   "outputs": [],
   "source": []
  }
 ],
 "metadata": {
  "kernelspec": {
   "display_name": "Python 3 (ipykernel)",
   "language": "python",
   "name": "python3"
  },
  "language_info": {
   "codemirror_mode": {
    "name": "ipython",
    "version": 3
   },
   "file_extension": ".py",
   "mimetype": "text/x-python",
   "name": "python",
   "nbconvert_exporter": "python",
   "pygments_lexer": "ipython3",
   "version": "3.11.7"
  }
 },
 "nbformat": 4,
 "nbformat_minor": 5
}
