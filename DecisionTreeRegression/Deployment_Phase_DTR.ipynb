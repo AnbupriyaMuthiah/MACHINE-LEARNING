{
 "cells": [
  {
   "cell_type": "code",
   "execution_count": 1,
   "id": "d94e8efd-dda4-4c63-862b-7cd4c1ffc957",
   "metadata": {},
   "outputs": [
    {
     "name": "stdin",
     "output_type": "stream",
     "text": [
      "R&D: 458\n",
      "Administration: 475\n",
      "Marketing Spend: 236\n",
      "State of Forida 0 or 1 0\n",
      "State of Newyork 0 or 1 1\n"
     ]
    },
    {
     "name": "stderr",
     "output_type": "stream",
     "text": [
      "C:\\ProgramData\\anaconda3\\Lib\\site-packages\\sklearn\\base.py:439: UserWarning: X does not have valid feature names, but DecisionTreeRegressor was fitted with feature names\n",
      "  warnings.warn(\n"
     ]
    },
    {
     "data": {
      "text/plain": [
       "array([35673.41])"
      ]
     },
     "execution_count": 1,
     "metadata": {},
     "output_type": "execute_result"
    }
   ],
   "source": [
    "import pickle\n",
    "\n",
    "loaded_model= pickle.load(open(\"Finalized_model_DTR.sav\",'rb'))\n",
    "RD=float(input(\"R&D:\"))\n",
    "Admin=float(input(\"Administration:\"))\n",
    "Marketing=float(input(\"Marketing Spend:\"))\n",
    "Florida=int(input(\"State of Forida 0 or 1\"))\n",
    "Newyork=int(input(\"State of Newyork 0 or 1\"))\n",
    "result=loaded_model.predict([[RD,Admin,Marketing,Florida,Newyork]])\n",
    "result                "
   ]
  },
  {
   "cell_type": "code",
   "execution_count": null,
   "id": "8c483d01-9362-48e3-97f1-75e94bb146db",
   "metadata": {},
   "outputs": [],
   "source": []
  }
 ],
 "metadata": {
  "kernelspec": {
   "display_name": "Python 3 (ipykernel)",
   "language": "python",
   "name": "python3"
  },
  "language_info": {
   "codemirror_mode": {
    "name": "ipython",
    "version": 3
   },
   "file_extension": ".py",
   "mimetype": "text/x-python",
   "name": "python",
   "nbconvert_exporter": "python",
   "pygments_lexer": "ipython3",
   "version": "3.11.7"
  }
 },
 "nbformat": 4,
 "nbformat_minor": 5
}
