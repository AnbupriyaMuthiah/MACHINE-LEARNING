{
 "cells": [
  {
   "cell_type": "code",
   "execution_count": 3,
   "id": "121e54a5-e567-4246-a19e-f0e0861279bd",
   "metadata": {},
   "outputs": [
    {
     "name": "stdin",
     "output_type": "stream",
     "text": [
      "Enter your Age: 19\n",
      "Enter gender Male(0) or female(1) enter 0 or 1: 0\n",
      "Enter your BMI: 30\n",
      "Enter the No of children: 0\n",
      "Smoker Yes(1) or No(0) Enter 0 or 1: 0\n"
     ]
    },
    {
     "data": {
      "text/plain": [
       "array([17690.41901345])"
      ]
     },
     "execution_count": 3,
     "metadata": {},
     "output_type": "execute_result"
    }
   ],
   "source": [
    "import pickle\n",
    "loaded_model= pickle.load(open(\"Finalized_model_SVMR.sav\",'rb'))\n",
    "age=int(input(\"Enter your Age:\"))\n",
    "sex=int(input(\"Enter gender Male(0) or female(1) enter 0 or 1:\"))\n",
    "bmi=float(input(\"Enter your BMI:\"))\n",
    "children=int(input(\"Enter the No of children:\"))\n",
    "smoker=int(input ( \"Smoker Yes(1) or No(0) Enter 0 or 1:\"))\n",
    "result=loaded_model.predict([[age,sex,bmi,children,smoker]])\n",
    "result      "
   ]
  },
  {
   "cell_type": "code",
   "execution_count": null,
   "id": "d88a9606-f871-44b4-9395-386e191d7429",
   "metadata": {},
   "outputs": [],
   "source": []
  }
 ],
 "metadata": {
  "kernelspec": {
   "display_name": "Python 3 (ipykernel)",
   "language": "python",
   "name": "python3"
  },
  "language_info": {
   "codemirror_mode": {
    "name": "ipython",
    "version": 3
   },
   "file_extension": ".py",
   "mimetype": "text/x-python",
   "name": "python",
   "nbconvert_exporter": "python",
   "pygments_lexer": "ipython3",
   "version": "3.11.7"
  }
 },
 "nbformat": 4,
 "nbformat_minor": 5
}
