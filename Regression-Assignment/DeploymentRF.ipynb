{
 "cells": [
  {
   "cell_type": "code",
   "execution_count": 2,
   "id": "8621148b-2c80-4eb0-9280-ae148d24726d",
   "metadata": {},
   "outputs": [],
   "source": [
    "import pickle"
   ]
  },
  {
   "cell_type": "code",
   "execution_count": 3,
   "id": "d3059c13-95b2-44d6-9a27-7f55e4704093",
   "metadata": {},
   "outputs": [
    {
     "name": "stdin",
     "output_type": "stream",
     "text": [
      "Enter your Age: 19\n",
      "Enter gender Male(0) or female(1) enter 0 or 1: 1\n",
      "Enter your BMI: 25\n",
      "Enter the No of children: 0\n",
      "Smoker Yes(1) or No(0) Enter 0 or 1: 0\n"
     ]
    },
    {
     "name": "stderr",
     "output_type": "stream",
     "text": [
      "C:\\ProgramData\\anaconda3\\Lib\\site-packages\\sklearn\\base.py:439: UserWarning: X does not have valid feature names, but RandomForestRegressor was fitted with feature names\n",
      "  warnings.warn(\n"
     ]
    },
    {
     "data": {
      "text/plain": [
       "array([1987.0306595])"
      ]
     },
     "execution_count": 3,
     "metadata": {},
     "output_type": "execute_result"
    }
   ],
   "source": [
    "loaded_model= pickle.load(open(\"Finalized_model_RFR.sav\",'rb'))\n",
    "age=int(input(\"Enter your Age:\"))\n",
    "sex_male=int(input(\"Enter gender Male(0) or female(1) enter 0 or 1:\"))\n",
    "bmi=float(input(\"Enter your BMI:\"))\n",
    "children=int(input(\"Enter the No of children:\"))\n",
    "smoker_yes=int(input ( \"Smoker Yes(1) or No(0) Enter 0 or 1:\"))\n",
    "result=loaded_model.predict([[age,sex_male,bmi,children,smoker_yes]])\n",
    "result                "
   ]
  },
  {
   "cell_type": "code",
   "execution_count": null,
   "id": "0fa08834-eadd-4a12-9609-178abc1ba8d7",
   "metadata": {},
   "outputs": [],
   "source": []
  }
 ],
 "metadata": {
  "kernelspec": {
   "display_name": "Python 3 (ipykernel)",
   "language": "python",
   "name": "python3"
  },
  "language_info": {
   "codemirror_mode": {
    "name": "ipython",
    "version": 3
   },
   "file_extension": ".py",
   "mimetype": "text/x-python",
   "name": "python",
   "nbconvert_exporter": "python",
   "pygments_lexer": "ipython3",
   "version": "3.11.7"
  }
 },
 "nbformat": 4,
 "nbformat_minor": 5
}
