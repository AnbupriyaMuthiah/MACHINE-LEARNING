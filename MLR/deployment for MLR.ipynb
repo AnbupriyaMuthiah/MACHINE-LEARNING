{
 "cells": [
  {
   "cell_type": "code",
   "execution_count": 1,
   "id": "2cbad7a8-d024-4e72-b2ba-33ff795a6fed",
   "metadata": {},
   "outputs": [],
   "source": [
    "import pickle"
   ]
  },
  {
   "cell_type": "code",
   "execution_count": 2,
   "id": "66d2d472-336a-4ec8-b75a-9a63306382a1",
   "metadata": {},
   "outputs": [
    {
     "name": "stdin",
     "output_type": "stream",
     "text": [
      "R&D: 589\n",
      "Administration: 7892\n",
      "Marketing Spend: 4567\n",
      "State of Forida 0 or 1 0\n",
      "State of Newyork 0 or 1 1\n"
     ]
    },
    {
     "name": "stderr",
     "output_type": "stream",
     "text": [
      "C:\\ProgramData\\anaconda3\\Lib\\site-packages\\sklearn\\base.py:439: UserWarning: X does not have valid feature names, but LinearRegression was fitted with feature names\n",
      "  warnings.warn(\n"
     ]
    },
    {
     "data": {
      "text/plain": [
       "array([[43554.43348047]])"
      ]
     },
     "execution_count": 2,
     "metadata": {},
     "output_type": "execute_result"
    }
   ],
   "source": [
    "loaded_model= pickle.load (open(\"Finalized_model_MLR.sav\",'rb'))\n",
    "RD=float(input(\"R&D:\"))\n",
    "Admin=float(input(\"Administration:\"))\n",
    "Marketing=float(input(\"Marketing Spend:\"))\n",
    "Florida=int(input(\"State of Forida 0 or 1\"))\n",
    "Newyork=int(input(\"State of Newyork 0 or 1\"))\n",
    "result=loaded_model.predict([[RD,Admin,Marketing,Florida,Newyork]])\n",
    "result                "
   ]
  },
  {
   "cell_type": "code",
   "execution_count": null,
   "id": "36735c9c-642d-49c7-bfbd-50cbdbd57e7c",
   "metadata": {},
   "outputs": [],
   "source": []
  }
 ],
 "metadata": {
  "kernelspec": {
   "display_name": "Python 3 (ipykernel)",
   "language": "python",
   "name": "python3"
  },
  "language_info": {
   "codemirror_mode": {
    "name": "ipython",
    "version": 3
   },
   "file_extension": ".py",
   "mimetype": "text/x-python",
   "name": "python",
   "nbconvert_exporter": "python",
   "pygments_lexer": "ipython3",
   "version": "3.11.7"
  }
 },
 "nbformat": 4,
 "nbformat_minor": 5
}
